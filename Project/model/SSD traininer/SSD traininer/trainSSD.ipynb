{
  "nbformat": 4,
  "nbformat_minor": 0,
  "metadata": {
    "colab": {
      "name": "trainSSD.ipynb",
      "provenance": [],
      "collapsed_sections": []
    },
    "kernelspec": {
      "name": "python3",
      "display_name": "Python 3"
    },
    "language_info": {
      "name": "python"
    },
    "accelerator": "GPU"
  },
  "cells": [
    {
      "cell_type": "code",
      "execution_count": 1,
      "metadata": {
        "colab": {
          "base_uri": "https://localhost:8080/"
        },
        "id": "8nqKgzE5re6V",
        "outputId": "eaec0144-6650-4303-c1c4-be632f892c5f"
      },
      "outputs": [
        {
          "output_type": "stream",
          "name": "stdout",
          "text": [
            "Drive already mounted at /content/drive; to attempt to forcibly remount, call drive.mount(\"/content/drive\", force_remount=True).\n"
          ]
        }
      ],
      "source": [
        "from google.colab import drive\n",
        "drive.mount('/content/drive')"
      ]
    },
    {
      "cell_type": "code",
      "source": [
        "classes = [\"stop_sign\",\"person\",\"bicycle\",\"bus\",\"truck\",\"car\",\"motorbike\",\"reflective_cone\",\"ashcan\",\"warning_column\",\n",
        "               \"spherical_roadblock\",\"pole\",\"dog\",\"tricycle\",\"fire_hydrant\"]"
      ],
      "metadata": {
        "id": "DTIO32jQhQFs"
      },
      "execution_count": 2,
      "outputs": []
    },
    {
      "cell_type": "code",
      "source": [
        "PathToDataset = \"/content/drive/MyDrive/ssd-object-detection-master/data/dataset/Obstacle Dataset\"\n",
        "TrainImage = PathToDataset + \"/img-train/\"\n",
        "valImage = PathToDataset + \"/img-val/\"\n",
        "testImage = PathToDataset + \"/img-test/\"\n",
        "trainAnn = PathToDataset + \"/ann-train/\"\n",
        "testAnn =  PathToDataset + \"/ann-test/\"\n",
        "valAnn = PathToDataset + \"/ann-val/\""
      ],
      "metadata": {
        "id": "Y9Xsze0QNZIH"
      },
      "execution_count": 3,
      "outputs": []
    },
    {
      "cell_type": "code",
      "source": [
        "def get_dataframe(annotations_path):\n",
        "    D =    {'image_name' : [],\n",
        "            'num_objects': [],\n",
        "            'BB_xywh': [],\n",
        "            'object_ids' : []}    \n",
        "    for line in open(annotations_path, 'r'):\n",
        "        image_name, num_objects, *annotations = line.split()\n",
        "        annotations_list = [list(map(int, annotations[i:i+4])) for i in range(0, len(annotations), 5)]\n",
        "        object_id_list = [int(annotations[i+4]) for i in range(0, len(annotations), 5)]\n",
        "        D['image_name'].append(image_name)\n",
        "        D['num_objects'].append(num_objects)\n",
        "        D['BB_xywh'].append(annotations_list)\n",
        "        D['object_ids'].append(object_id_list)    \n",
        "    df = pd.DataFrame(D)\n",
        "    return df"
      ],
      "metadata": {
        "id": "UqxpPeXonaBp"
      },
      "execution_count": null,
      "outputs": []
    },
    {
      "cell_type": "code",
      "source": [
        "import os \n",
        "import numpy as np\n",
        "import xml.etree.ElementTree as ET\n",
        "from collections import OrderedDict\n",
        "import matplotlib.pyplot as plt\n",
        "import pandas as pd \n",
        "\n",
        "def extract_single_xml_file(tree):\n",
        "    Nobj = 0\n",
        "    row  = OrderedDict()\n",
        "    anotationList = []\n",
        "    nameList = []\n",
        "    idList = []\n",
        "    boxes = []\n",
        "    for elems in tree.iter():\n",
        "\n",
        "        if elems.tag == \"object\":\n",
        "            for elem in elems:\n",
        "                if elem.tag == \"name\":\n",
        "                    idList.append(int(classes.index(str(elem.text))))             \n",
        "                if elem.tag == \"bndbox\":\n",
        "                    for k in elem:\n",
        "                      boxes.append(int(k.text))\n",
        "                    anotationList.append(boxes)\n",
        "                    boxes = []\n",
        "            Nobj += 1\n",
        "                    \n",
        "    row[\"num_objects\"] = Nobj\n",
        "    row[\"BB_xywh\"] = anotationList\n",
        "    row[\"object_ids\"] = idList\n",
        "    return(row)"
      ],
      "metadata": {
        "id": "Yy0fVShePtgp"
      },
      "execution_count": 4,
      "outputs": []
    },
    {
      "cell_type": "code",
      "source": [
        "train_anno = []\n",
        "for fnm in os.listdir(trainAnn):  \n",
        "    if not fnm.startswith('.'): ## do not include hidden folders/files\n",
        "        tree = ET.parse(os.path.join(trainAnn,fnm))\n",
        "        row = extract_single_xml_file(tree)\n",
        "        row[\"image_name\"] = fnm.split(\".\")[0]+\".jpg\"\n",
        "        train_anno.append(row)\n",
        "train_anno = pd.DataFrame(train_anno)\n",
        "maxNobj = np.max(train_anno[\"num_objects\"])"
      ],
      "metadata": {
        "id": "PC3BYB0fPxuW"
      },
      "execution_count": 5,
      "outputs": []
    },
    {
      "cell_type": "code",
      "source": [
        "print(\"columns in df_anno\\n-----------------\")\n",
        "for icol, colnm in enumerate(train_anno.columns):\n",
        "    print(\"{:3.0f}: {}\".format(icol,colnm))\n",
        "print(\"-\"*30)\n",
        "print(\"df_anno.shape={}=(N frames, N columns)\".format(train_anno.shape))\n",
        "train_anno.head()"
      ],
      "metadata": {
        "colab": {
          "base_uri": "https://localhost:8080/",
          "height": 351
        },
        "id": "BATXb0iiQnIA",
        "outputId": "a8afd508-f19d-4391-a7f5-ac56d5eccfa7"
      },
      "execution_count": 6,
      "outputs": [
        {
          "output_type": "stream",
          "name": "stdout",
          "text": [
            "columns in df_anno\n",
            "-----------------\n",
            "  0: num_objects\n",
            "  1: BB_xywh\n",
            "  2: object_ids\n",
            "  3: image_name\n",
            "------------------------------\n",
            "df_anno.shape=(4566, 4)=(N frames, N columns)\n"
          ]
        },
        {
          "output_type": "execute_result",
          "data": {
            "text/plain": [
              "   num_objects                                            BB_xywh  \\\n",
              "0            7  [[478, 307, 640, 485], [5, 331, 86, 485], [0, ...   \n",
              "1            6  [[516, 183, 564, 200], [480, 179, 526, 197], [...   \n",
              "2            3  [[183, 328, 213, 379], [417, 139, 448, 199], [...   \n",
              "3           17  [[202, 185, 439, 342], [0, 162, 237, 319], [92...   \n",
              "4            1                               [[1, 114, 602, 541]]   \n",
              "\n",
              "                                          object_ids        image_name  \n",
              "0                              [5, 5, 5, 5, 4, 1, 1]  000000232551.jpg  \n",
              "1                                 [5, 5, 5, 5, 4, 5]  000000163897.jpg  \n",
              "2                                         [1, 1, 12]  000000062347.jpg  \n",
              "3  [6, 6, 1, 1, 1, 1, 1, 1, 1, 1, 1, 1, 1, 1, 4, ...  000000063782.jpg  \n",
              "4                                               [12]  000000100500.jpg  "
            ],
            "text/html": [
              "\n",
              "  <div id=\"df-a66c7fcc-cbb1-4ae8-9d00-98bd2e206b00\">\n",
              "    <div class=\"colab-df-container\">\n",
              "      <div>\n",
              "<style scoped>\n",
              "    .dataframe tbody tr th:only-of-type {\n",
              "        vertical-align: middle;\n",
              "    }\n",
              "\n",
              "    .dataframe tbody tr th {\n",
              "        vertical-align: top;\n",
              "    }\n",
              "\n",
              "    .dataframe thead th {\n",
              "        text-align: right;\n",
              "    }\n",
              "</style>\n",
              "<table border=\"1\" class=\"dataframe\">\n",
              "  <thead>\n",
              "    <tr style=\"text-align: right;\">\n",
              "      <th></th>\n",
              "      <th>num_objects</th>\n",
              "      <th>BB_xywh</th>\n",
              "      <th>object_ids</th>\n",
              "      <th>image_name</th>\n",
              "    </tr>\n",
              "  </thead>\n",
              "  <tbody>\n",
              "    <tr>\n",
              "      <th>0</th>\n",
              "      <td>7</td>\n",
              "      <td>[[478, 307, 640, 485], [5, 331, 86, 485], [0, ...</td>\n",
              "      <td>[5, 5, 5, 5, 4, 1, 1]</td>\n",
              "      <td>000000232551.jpg</td>\n",
              "    </tr>\n",
              "    <tr>\n",
              "      <th>1</th>\n",
              "      <td>6</td>\n",
              "      <td>[[516, 183, 564, 200], [480, 179, 526, 197], [...</td>\n",
              "      <td>[5, 5, 5, 5, 4, 5]</td>\n",
              "      <td>000000163897.jpg</td>\n",
              "    </tr>\n",
              "    <tr>\n",
              "      <th>2</th>\n",
              "      <td>3</td>\n",
              "      <td>[[183, 328, 213, 379], [417, 139, 448, 199], [...</td>\n",
              "      <td>[1, 1, 12]</td>\n",
              "      <td>000000062347.jpg</td>\n",
              "    </tr>\n",
              "    <tr>\n",
              "      <th>3</th>\n",
              "      <td>17</td>\n",
              "      <td>[[202, 185, 439, 342], [0, 162, 237, 319], [92...</td>\n",
              "      <td>[6, 6, 1, 1, 1, 1, 1, 1, 1, 1, 1, 1, 1, 1, 4, ...</td>\n",
              "      <td>000000063782.jpg</td>\n",
              "    </tr>\n",
              "    <tr>\n",
              "      <th>4</th>\n",
              "      <td>1</td>\n",
              "      <td>[[1, 114, 602, 541]]</td>\n",
              "      <td>[12]</td>\n",
              "      <td>000000100500.jpg</td>\n",
              "    </tr>\n",
              "  </tbody>\n",
              "</table>\n",
              "</div>\n",
              "      <button class=\"colab-df-convert\" onclick=\"convertToInteractive('df-a66c7fcc-cbb1-4ae8-9d00-98bd2e206b00')\"\n",
              "              title=\"Convert this dataframe to an interactive table.\"\n",
              "              style=\"display:none;\">\n",
              "        \n",
              "  <svg xmlns=\"http://www.w3.org/2000/svg\" height=\"24px\"viewBox=\"0 0 24 24\"\n",
              "       width=\"24px\">\n",
              "    <path d=\"M0 0h24v24H0V0z\" fill=\"none\"/>\n",
              "    <path d=\"M18.56 5.44l.94 2.06.94-2.06 2.06-.94-2.06-.94-.94-2.06-.94 2.06-2.06.94zm-11 1L8.5 8.5l.94-2.06 2.06-.94-2.06-.94L8.5 2.5l-.94 2.06-2.06.94zm10 10l.94 2.06.94-2.06 2.06-.94-2.06-.94-.94-2.06-.94 2.06-2.06.94z\"/><path d=\"M17.41 7.96l-1.37-1.37c-.4-.4-.92-.59-1.43-.59-.52 0-1.04.2-1.43.59L10.3 9.45l-7.72 7.72c-.78.78-.78 2.05 0 2.83L4 21.41c.39.39.9.59 1.41.59.51 0 1.02-.2 1.41-.59l7.78-7.78 2.81-2.81c.8-.78.8-2.07 0-2.86zM5.41 20L4 18.59l7.72-7.72 1.47 1.35L5.41 20z\"/>\n",
              "  </svg>\n",
              "      </button>\n",
              "      \n",
              "  <style>\n",
              "    .colab-df-container {\n",
              "      display:flex;\n",
              "      flex-wrap:wrap;\n",
              "      gap: 12px;\n",
              "    }\n",
              "\n",
              "    .colab-df-convert {\n",
              "      background-color: #E8F0FE;\n",
              "      border: none;\n",
              "      border-radius: 50%;\n",
              "      cursor: pointer;\n",
              "      display: none;\n",
              "      fill: #1967D2;\n",
              "      height: 32px;\n",
              "      padding: 0 0 0 0;\n",
              "      width: 32px;\n",
              "    }\n",
              "\n",
              "    .colab-df-convert:hover {\n",
              "      background-color: #E2EBFA;\n",
              "      box-shadow: 0px 1px 2px rgba(60, 64, 67, 0.3), 0px 1px 3px 1px rgba(60, 64, 67, 0.15);\n",
              "      fill: #174EA6;\n",
              "    }\n",
              "\n",
              "    [theme=dark] .colab-df-convert {\n",
              "      background-color: #3B4455;\n",
              "      fill: #D2E3FC;\n",
              "    }\n",
              "\n",
              "    [theme=dark] .colab-df-convert:hover {\n",
              "      background-color: #434B5C;\n",
              "      box-shadow: 0px 1px 3px 1px rgba(0, 0, 0, 0.15);\n",
              "      filter: drop-shadow(0px 1px 2px rgba(0, 0, 0, 0.3));\n",
              "      fill: #FFFFFF;\n",
              "    }\n",
              "  </style>\n",
              "\n",
              "      <script>\n",
              "        const buttonEl =\n",
              "          document.querySelector('#df-a66c7fcc-cbb1-4ae8-9d00-98bd2e206b00 button.colab-df-convert');\n",
              "        buttonEl.style.display =\n",
              "          google.colab.kernel.accessAllowed ? 'block' : 'none';\n",
              "\n",
              "        async function convertToInteractive(key) {\n",
              "          const element = document.querySelector('#df-a66c7fcc-cbb1-4ae8-9d00-98bd2e206b00');\n",
              "          const dataTable =\n",
              "            await google.colab.kernel.invokeFunction('convertToInteractive',\n",
              "                                                     [key], {});\n",
              "          if (!dataTable) return;\n",
              "\n",
              "          const docLinkHtml = 'Like what you see? Visit the ' +\n",
              "            '<a target=\"_blank\" href=https://colab.research.google.com/notebooks/data_table.ipynb>data table notebook</a>'\n",
              "            + ' to learn more about interactive tables.';\n",
              "          element.innerHTML = '';\n",
              "          dataTable['output_type'] = 'display_data';\n",
              "          await google.colab.output.renderOutput(dataTable, element);\n",
              "          const docLink = document.createElement('div');\n",
              "          docLink.innerHTML = docLinkHtml;\n",
              "          element.appendChild(docLink);\n",
              "        }\n",
              "      </script>\n",
              "    </div>\n",
              "  </div>\n",
              "  "
            ]
          },
          "metadata": {},
          "execution_count": 6
        }
      ]
    },
    {
      "cell_type": "code",
      "source": [
        "plt.hist(train_anno[\"num_objects\"].values,bins=100)\n",
        "plt.title(\"max N of objects per image={}\".format(maxNobj))\n",
        "plt.show()"
      ],
      "metadata": {
        "colab": {
          "base_uri": "https://localhost:8080/",
          "height": 281
        },
        "id": "MLK0DdFmhxY4",
        "outputId": "99fd3b99-95d0-4e4a-d81d-298144a4b0d7"
      },
      "execution_count": 7,
      "outputs": [
        {
          "output_type": "display_data",
          "data": {
            "text/plain": [
              "<Figure size 432x288 with 1 Axes>"
            ],
            "image/png": "[encoded data removed]"
          },
          "metadata": {
            "needs_background": "light"
          }
        }
      ]
    },
    {
      "cell_type": "code",
      "source": [
        "val_anno = []\n",
        "for fnm in os.listdir(valAnn):  \n",
        "    if not fnm.startswith('.'): ## do not include hidden folders/files\n",
        "        tree = ET.parse(os.path.join(valAnn,fnm))\n",
        "        row = extract_single_xml_file(tree)\n",
        "        row[\"image_name\"] = fnm.split(\".\")[0]+\".jpg\"\n",
        "        val_anno.append(row)\n",
        "val_anno = pd.DataFrame(val_anno)\n",
        "maxNobj = np.max(val_anno[\"num_objects\"])"
      ],
      "metadata": {
        "id": "TnBXV-YwfssK"
      },
      "execution_count": 8,
      "outputs": []
    },
    {
      "cell_type": "code",
      "source": [
        "print(\"columns in df_anno\\n-----------------\")\n",
        "for icol, colnm in enumerate(val_anno.columns):\n",
        "    print(\"{:3.0f}: {}\".format(icol,colnm))\n",
        "print(\"-\"*30)\n",
        "print(\"df_anno.shape={}=(N frames, N columns)\".format(val_anno.shape))\n",
        "val_anno.head()"
      ],
      "metadata": {
        "colab": {
          "base_uri": "https://localhost:8080/",
          "height": 351
        },
        "id": "-KR8J5oVgPHF",
        "outputId": "3b709510-27c1-4a87-ff6d-3c5c6a94a470"
      },
      "execution_count": 9,
      "outputs": [
        {
          "output_type": "stream",
          "name": "stdout",
          "text": [
            "columns in df_anno\n",
            "-----------------\n",
            "  0: num_objects\n",
            "  1: BB_xywh\n",
            "  2: object_ids\n",
            "  3: image_name\n",
            "------------------------------\n",
            "df_anno.shape=(766, 4)=(N frames, N columns)\n"
          ]
        },
        {
          "output_type": "execute_result",
          "data": {
            "text/plain": [
              "   num_objects                                            BB_xywh  \\\n",
              "0            1                              [[80, 111, 144, 210]]   \n",
              "1            1                               [[379, 2, 493, 783]]   \n",
              "2            6  [[1731, 172, 1876, 270], [950, 168, 1207, 261]...   \n",
              "3           17  [[2827, 1242, 3525, 1969], [3319, 1315, 3958, ...   \n",
              "4            1                             [[414, 295, 512, 555]]   \n",
              "\n",
              "                                          object_ids    image_name  \n",
              "0                                                [7]   0524276.jpg  \n",
              "1                                               [11]  06080001.jpg  \n",
              "2                               [6, 5, 7, 7, 11, 11]   0000679.jpg  \n",
              "3  [6, 6, 1, 1, 1, 6, 2, 1, 1, 1, 7, 7, 7, 7, 7, ...   0006206.jpg  \n",
              "4                                                [7]   0524180.jpg  "
            ],
            "text/html": [
              "\n",
              "  <div id=\"df-5e3f2cc4-e603-4216-9f9e-f1edada87459\">\n",
              "    <div class=\"colab-df-container\">\n",
              "      <div>\n",
              "<style scoped>\n",
              "    .dataframe tbody tr th:only-of-type {\n",
              "        vertical-align: middle;\n",
              "    }\n",
              "\n",
              "    .dataframe tbody tr th {\n",
              "        vertical-align: top;\n",
              "    }\n",
              "\n",
              "    .dataframe thead th {\n",
              "        text-align: right;\n",
              "    }\n",
              "</style>\n",
              "<table border=\"1\" class=\"dataframe\">\n",
              "  <thead>\n",
              "    <tr style=\"text-align: right;\">\n",
              "      <th></th>\n",
              "      <th>num_objects</th>\n",
              "      <th>BB_xywh</th>\n",
              "      <th>object_ids</th>\n",
              "      <th>image_name</th>\n",
              "    </tr>\n",
              "  </thead>\n",
              "  <tbody>\n",
              "    <tr>\n",
              "      <th>0</th>\n",
              "      <td>1</td>\n",
              "      <td>[[80, 111, 144, 210]]</td>\n",
              "      <td>[7]</td>\n",
              "      <td>0524276.jpg</td>\n",
              "    </tr>\n",
              "    <tr>\n",
              "      <th>1</th>\n",
              "      <td>1</td>\n",
              "      <td>[[379, 2, 493, 783]]</td>\n",
              "      <td>[11]</td>\n",
              "      <td>06080001.jpg</td>\n",
              "    </tr>\n",
              "    <tr>\n",
              "      <th>2</th>\n",
              "      <td>6</td>\n",
              "      <td>[[1731, 172, 1876, 270], [950, 168, 1207, 261]...</td>\n",
              "      <td>[6, 5, 7, 7, 11, 11]</td>\n",
              "      <td>0000679.jpg</td>\n",
              "    </tr>\n",
              "    <tr>\n",
              "      <th>3</th>\n",
              "      <td>17</td>\n",
              "      <td>[[2827, 1242, 3525, 1969], [3319, 1315, 3958, ...</td>\n",
              "      <td>[6, 6, 1, 1, 1, 6, 2, 1, 1, 1, 7, 7, 7, 7, 7, ...</td>\n",
              "      <td>0006206.jpg</td>\n",
              "    </tr>\n",
              "    <tr>\n",
              "      <th>4</th>\n",
              "      <td>1</td>\n",
              "      <td>[[414, 295, 512, 555]]</td>\n",
              "      <td>[7]</td>\n",
              "      <td>0524180.jpg</td>\n",
              "    </tr>\n",
              "  </tbody>\n",
              "</table>\n",
              "</div>\n",
              "      <button class=\"colab-df-convert\" onclick=\"convertToInteractive('df-5e3f2cc4-e603-4216-9f9e-f1edada87459')\"\n",
              "              title=\"Convert this dataframe to an interactive table.\"\n",
              "              style=\"display:none;\">\n",
              "        \n",
              "  <svg xmlns=\"http://www.w3.org/2000/svg\" height=\"24px\"viewBox=\"0 0 24 24\"\n",
              "       width=\"24px\">\n",
              "    <path d=\"M0 0h24v24H0V0z\" fill=\"none\"/>\n",
              "    <path d=\"M18.56 5.44l.94 2.06.94-2.06 2.06-.94-2.06-.94-.94-2.06-.94 2.06-2.06.94zm-11 1L8.5 8.5l.94-2.06 2.06-.94-2.06-.94L8.5 2.5l-.94 2.06-2.06.94zm10 10l.94 2.06.94-2.06 2.06-.94-2.06-.94-.94-2.06-.94 2.06-2.06.94z\"/><path d=\"M17.41 7.96l-1.37-1.37c-.4-.4-.92-.59-1.43-.59-.52 0-1.04.2-1.43.59L10.3 9.45l-7.72 7.72c-.78.78-.78 2.05 0 2.83L4 21.41c.39.39.9.59 1.41.59.51 0 1.02-.2 1.41-.59l7.78-7.78 2.81-2.81c.8-.78.8-2.07 0-2.86zM5.41 20L4 18.59l7.72-7.72 1.47 1.35L5.41 20z\"/>\n",
              "  </svg>\n",
              "      </button>\n",
              "      \n",
              "  <style>\n",
              "    .colab-df-container {\n",
              "      display:flex;\n",
              "      flex-wrap:wrap;\n",
              "      gap: 12px;\n",
              "    }\n",
              "\n",
              "    .colab-df-convert {\n",
              "      background-color: #E8F0FE;\n",
              "      border: none;\n",
              "      border-radius: 50%;\n",
              "      cursor: pointer;\n",
              "      display: none;\n",
              "      fill: #1967D2;\n",
              "      height: 32px;\n",
              "      padding: 0 0 0 0;\n",
              "      width: 32px;\n",
              "    }\n",
              "\n",
              "    .colab-df-convert:hover {\n",
              "      background-color: #E2EBFA;\n",
              "      box-shadow: 0px 1px 2px rgba(60, 64, 67, 0.3), 0px 1px 3px 1px rgba(60, 64, 67, 0.15);\n",
              "      fill: #174EA6;\n",
              "    }\n",
              "\n",
              "    [theme=dark] .colab-df-convert {\n",
              "      background-color: #3B4455;\n",
              "      fill: #D2E3FC;\n",
              "    }\n",
              "\n",
              "    [theme=dark] .colab-df-convert:hover {\n",
              "      background-color: #434B5C;\n",
              "      box-shadow: 0px 1px 3px 1px rgba(0, 0, 0, 0.15);\n",
              "      filter: drop-shadow(0px 1px 2px rgba(0, 0, 0, 0.3));\n",
              "      fill: #FFFFFF;\n",
              "    }\n",
              "  </style>\n",
              "\n",
              "      <script>\n",
              "        const buttonEl =\n",
              "          document.querySelector('#df-5e3f2cc4-e603-4216-9f9e-f1edada87459 button.colab-df-convert');\n",
              "        buttonEl.style.display =\n",
              "          google.colab.kernel.accessAllowed ? 'block' : 'none';\n",
              "\n",
              "        async function convertToInteractive(key) {\n",
              "          const element = document.querySelector('#df-5e3f2cc4-e603-4216-9f9e-f1edada87459');\n",
              "          const dataTable =\n",
              "            await google.colab.kernel.invokeFunction('convertToInteractive',\n",
              "                                                     [key], {});\n",
              "          if (!dataTable) return;\n",
              "\n",
              "          const docLinkHtml = 'Like what you see? Visit the ' +\n",
              "            '<a target=\"_blank\" href=https://colab.research.google.com/notebooks/data_table.ipynb>data table notebook</a>'\n",
              "            + ' to learn more about interactive tables.';\n",
              "          element.innerHTML = '';\n",
              "          dataTable['output_type'] = 'display_data';\n",
              "          await google.colab.output.renderOutput(dataTable, element);\n",
              "          const docLink = document.createElement('div');\n",
              "          docLink.innerHTML = docLinkHtml;\n",
              "          element.appendChild(docLink);\n",
              "        }\n",
              "      </script>\n",
              "    </div>\n",
              "  </div>\n",
              "  "
            ]
          },
          "metadata": {},
          "execution_count": 9
        }
      ]
    },
    {
      "cell_type": "code",
      "source": [
        "%cd /content/drive/My Drive/ssd-object-detection-master"
      ],
      "metadata": {
        "colab": {
          "base_uri": "https://localhost:8080/"
        },
        "id": "c702RBvnlzbV",
        "outputId": "9b686d03-8e03-4371-c02b-09c32dcedc19"
      },
      "execution_count": 10,
      "outputs": [
        {
          "output_type": "stream",
          "name": "stdout",
          "text": [
            "/content/drive/My Drive/ssd-object-detection-master\n"
          ]
        }
      ]
    },
    {
      "cell_type": "code",
      "source": [
        "import utils\n",
        "import torch\n",
        "from ssdconfig import SSDConfig\n",
        "from data import ShelfImageDataset, collate_fn, get_dataframe\n",
        "from torch.utils.data import DataLoader\n",
        "from torch.optim import SGD\n",
        "from ssd import SSD, MultiBoxLoss\n",
        "from trainer import train, eval\n",
        "\n",
        "config = SSDConfig()\n",
        "device = config.DEVICE\n",
        "\n",
        "\n",
        "config.PATH_TO_CHECKPOINT = \"/content/drive/My Drive/ssd-object-detection-master/checkpoint/checkpoint_ssd_1.pth.tar\"\n",
        "\n",
        "config.PRINT_FREQ = 35\n",
        "config.VGG_BN_FLAG = True\n",
        "config.TRAIN_BATCH_SIZE = 8\n",
        "config.LEARNING_RATE = 0.001\n",
        "config.USE_PRETRAINED_VGG = True\n",
        "config.NUM_ITERATIONS_TRAIN = 4000 "
      ],
      "metadata": {
        "id": "frtDsVUNsxT5"
      },
      "execution_count": 11,
      "outputs": []
    },
    {
      "cell_type": "code",
      "source": [
        "dataset_tr = ShelfImageDataset(train_anno, TrainImage, train=True)\n",
        "dataloader_tr = DataLoader(dataset_tr,\n",
        "                           shuffle=True,\n",
        "                           collate_fn=collate_fn,\n",
        "                           batch_size=config.TRAIN_BATCH_SIZE,\n",
        "                           num_workers=config.NUM_DATALOADER_WORKERS)\n",
        "\n",
        "dataset_te = ShelfImageDataset(val_anno, valImage, train=False)\n",
        "dataloader_te = DataLoader(dataset_te,\n",
        "                           shuffle=True,\n",
        "                           collate_fn=collate_fn,\n",
        "                           batch_size=config.TRAIN_BATCH_SIZE,\n",
        "                           num_workers=config.NUM_DATALOADER_WORKERS)"
      ],
      "metadata": {
        "id": "-oiXNEGCtTCe"
      },
      "execution_count": 12,
      "outputs": []
    },
    {
      "cell_type": "code",
      "source": [
        "try:\n",
        "    checkpoint = torch.load(config.PATH_TO_CHECKPOINT)\n",
        "    start_epoch = checkpoint['epoch'] + 1\n",
        "    print('\\nLoaded checkpoint from epoch %d.\\n' % start_epoch)\n",
        "    model = checkpoint['model']\n",
        "    optimizer = checkpoint['optimizer']\n",
        "except FileNotFoundError:\n",
        "    print('PATH_TO_CHECKPOINT not specified in SSDConfig.\\nMaking new model and optimizer.')\n",
        "    start_epoch = 0\n",
        "    model = SSD(config)\n",
        "    model_parameters = utils.get_model_params(model)\n",
        "    optimizer = SGD(params=[{'params': model_parameters['biases'], 'lr': 2 * config.LEARNING_RATE},\n",
        "                        {'params': model_parameters['not_biases']}],\n",
        "                        lr=config.LEARNING_RATE,\n",
        "                        momentum=config.MOMENTUM,\n",
        "                        weight_decay=config.WEIGHT_DECAY)\n",
        "\n",
        "\n",
        "model.to(device)\n",
        "criterion = MultiBoxLoss(model.priors_cxcy, config).to(device)\n",
        "\n",
        "epochs = config.NUM_ITERATIONS_TRAIN // len(dataloader_tr)\n",
        "\n",
        "decay_at_epoch = [int(epochs*x) for x in config.DECAY_LR_AT]\n",
        "\n",
        "\n",
        "\n",
        "for epoch in range(start_epoch, epochs):\n",
        "    if epoch in decay_at_epoch:\n",
        "        utils.adjust_learning_rate(optimizer, config.DECAY_FRAC)\n",
        "    train(dataloader_tr, model, criterion, optimizer, epoch)\n",
        "    if (epoch%5 == 0):\n",
        "      print('Model checkpoint.', end=' ' )\n",
        "      utils.save_checkpoint(epoch, model, optimizer, config, config.PATH_TO_CHECKPOINT)\n",
        "      print('Model Evaluation.', end=' :: ')\n",
        "      print('mAP: ' + str(eval(model, dataloader_te, 0.6, 0.4)))\n",
        "\n",
        "utils.save_checkpoint(epoch, model, optimizer, config, config.PATH_TO_CHECKPOINT)"
      ],
      "metadata": {
        "colab": {
          "base_uri": "https://localhost:8080/"
        },
        "id": "FV9aDj7ztYk-",
        "outputId": "2e9cf4d3-9f95-4bda-bed9-41a859643fee"
      },
      "execution_count": null,
      "outputs": [
        {
          "output_type": "stream",
          "name": "stdout",
          "text": [
            "PATH_TO_CHECKPOINT not specified in SSDConfig.\n",
            "Making new model and optimizer.\n"
          ]
        },
        {
          "output_type": "stream",
          "name": "stderr",
          "text": [
            "/usr/local/lib/python3.7/dist-packages/torch/nn/_reduction.py:42: UserWarning: size_average and reduce args will be deprecated, please use reduction='none' instead.\n",
            "  warnings.warn(warning.format(ret))\n",
            "/usr/local/lib/python3.7/dist-packages/torch/nn/functional.py:780: UserWarning: Note that order of the arguments: ceil_mode and return_indices will changeto match the args list in nn.MaxPool2d in a future release.\n",
            "  warnings.warn(\"Note that order of the arguments: ceil_mode and return_indices will change\"\n"
          ]
        },
        {
          "output_type": "stream",
          "name": "stdout",
          "text": [
            "Epoch: [0][0/435]\tBatch Time 70.214 (70.214)\tData Time 6.784 (6.784)\tLoss 12.6561 (12.6561)\t\n",
            "Epoch: [0][35/435]\tBatch Time 28.640 (30.797)\tData Time 0.011 (0.199)\tLoss 11.5105 (11.8147)\t\n"
          ]
        }
      ]
    },
    {
      "cell_type": "code",
      "source": [
        ""
      ],
      "metadata": {
        "id": "HZ_2uoVduq13"
      },
      "execution_count": null,
      "outputs": []
    }
  ]
}