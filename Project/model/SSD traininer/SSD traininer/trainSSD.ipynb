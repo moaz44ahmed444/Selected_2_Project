{
  "nbformat": 4,
  "nbformat_minor": 0,
  "metadata": {
    "colab": {
      "name": "trainSSD.ipynb",
      "provenance": [],
      "collapsed_sections": []
    },
    "kernelspec": {
      "name": "python3",
      "display_name": "Python 3"
    },
    "language_info": {
      "name": "python"
    },
    "accelerator": "GPU",
    "widgets": {
      "application/vnd.jupyter.widget-state+json": {
        "8b5719792698443d87a1fd97b3dd070f": {
          "model_module": "@jupyter-widgets/controls",
          "model_name": "HBoxModel",
          "model_module_version": "1.5.0",
          "state": {
            "_dom_classes": [],
            "_model_module": "@jupyter-widgets/controls",
            "_model_module_version": "1.5.0",
            "_model_name": "HBoxModel",
            "_view_count": null,
            "_view_module": "@jupyter-widgets/controls",
            "_view_module_version": "1.5.0",
            "_view_name": "HBoxView",
            "box_style": "",
            "children": [
              "IPY_MODEL_c7ccd8cab7dc4604a4e38792a7fec40a",
              "IPY_MODEL_0ed85fd7765c4366a6c3be031caa555c",
              "IPY_MODEL_a7b12db6287146c7af40758759b372cd"
            ],
            "layout": "IPY_MODEL_80c4579b2087414a8e7258316e57fb3e"
          }
        },
        "c7ccd8cab7dc4604a4e38792a7fec40a": {
          "model_module": "@jupyter-widgets/controls",
          "model_name": "HTMLModel",
          "model_module_version": "1.5.0",
          "state": {
            "_dom_classes": [],
            "_model_module": "@jupyter-widgets/controls",
            "_model_module_version": "1.5.0",
            "_model_name": "HTMLModel",
            "_view_count": null,
            "_view_module": "@jupyter-widgets/controls",
            "_view_module_version": "1.5.0",
            "_view_name": "HTMLView",
            "description": "",
            "description_tooltip": null,
            "layout": "IPY_MODEL_c8e961f925e849ec8fa02f3883520f8f",
            "placeholder": "​",
            "style": "IPY_MODEL_e461ce54db7241f79f537435cf9ea37c",
            "value": "100%"
          }
        },
        "0ed85fd7765c4366a6c3be031caa555c": {
          "model_module": "@jupyter-widgets/controls",
          "model_name": "FloatProgressModel",
          "model_module_version": "1.5.0",
          "state": {
            "_dom_classes": [],
            "_model_module": "@jupyter-widgets/controls",
            "_model_module_version": "1.5.0",
            "_model_name": "FloatProgressModel",
            "_view_count": null,
            "_view_module": "@jupyter-widgets/controls",
            "_view_module_version": "1.5.0",
            "_view_name": "ProgressView",
            "bar_style": "success",
            "description": "",
            "description_tooltip": null,
            "layout": "IPY_MODEL_6f04f85eb833485f957298f9820ec699",
            "max": 553507836,
            "min": 0,
            "orientation": "horizontal",
            "style": "IPY_MODEL_48c54d0d0b8f4b658aadade574ec0b45",
            "value": 553507836
          }
        },
        "a7b12db6287146c7af40758759b372cd": {
          "model_module": "@jupyter-widgets/controls",
          "model_name": "HTMLModel",
          "model_module_version": "1.5.0",
          "state": {
            "_dom_classes": [],
            "_model_module": "@jupyter-widgets/controls",
            "_model_module_version": "1.5.0",
            "_model_name": "HTMLModel",
            "_view_count": null,
            "_view_module": "@jupyter-widgets/controls",
            "_view_module_version": "1.5.0",
            "_view_name": "HTMLView",
            "description": "",
            "description_tooltip": null,
            "layout": "IPY_MODEL_9fb2df0b434148b49f1522c128382541",
            "placeholder": "​",
            "style": "IPY_MODEL_efc259ad27d1453aba0b0d4830a6580b",
            "value": " 528M/528M [00:05&lt;00:00, 132MB/s]"
          }
        },
        "80c4579b2087414a8e7258316e57fb3e": {
          "model_module": "@jupyter-widgets/base",
          "model_name": "LayoutModel",
          "model_module_version": "1.2.0",
          "state": {
            "_model_module": "@jupyter-widgets/base",
            "_model_module_version": "1.2.0",
            "_model_name": "LayoutModel",
            "_view_count": null,
            "_view_module": "@jupyter-widgets/base",
            "_view_module_version": "1.2.0",
            "_view_name": "LayoutView",
            "align_content": null,
            "align_items": null,
            "align_self": null,
            "border": null,
            "bottom": null,
            "display": null,
            "flex": null,
            "flex_flow": null,
            "grid_area": null,
            "grid_auto_columns": null,
            "grid_auto_flow": null,
            "grid_auto_rows": null,
            "grid_column": null,
            "grid_gap": null,
            "grid_row": null,
            "grid_template_areas": null,
            "grid_template_columns": null,
            "grid_template_rows": null,
            "height": null,
            "justify_content": null,
            "justify_items": null,
            "left": null,
            "margin": null,
            "max_height": null,
            "max_width": null,
            "min_height": null,
            "min_width": null,
            "object_fit": null,
            "object_position": null,
            "order": null,
            "overflow": null,
            "overflow_x": null,
            "overflow_y": null,
            "padding": null,
            "right": null,
            "top": null,
            "visibility": null,
            "width": null
          }
        },
        "c8e961f925e849ec8fa02f3883520f8f": {
          "model_module": "@jupyter-widgets/base",
          "model_name": "LayoutModel",
          "model_module_version": "1.2.0",
          "state": {
            "_model_module": "@jupyter-widgets/base",
            "_model_module_version": "1.2.0",
            "_model_name": "LayoutModel",
            "_view_count": null,
            "_view_module": "@jupyter-widgets/base",
            "_view_module_version": "1.2.0",
            "_view_name": "LayoutView",
            "align_content": null,
            "align_items": null,
            "align_self": null,
            "border": null,
            "bottom": null,
            "display": null,
            "flex": null,
            "flex_flow": null,
            "grid_area": null,
            "grid_auto_columns": null,
            "grid_auto_flow": null,
            "grid_auto_rows": null,
            "grid_column": null,
            "grid_gap": null,
            "grid_row": null,
            "grid_template_areas": null,
            "grid_template_columns": null,
            "grid_template_rows": null,
            "height": null,
            "justify_content": null,
            "justify_items": null,
            "left": null,
            "margin": null,
            "max_height": null,
            "max_width": null,
            "min_height": null,
            "min_width": null,
            "object_fit": null,
            "object_position": null,
            "order": null,
            "overflow": null,
            "overflow_x": null,
            "overflow_y": null,
            "padding": null,
            "right": null,
            "top": null,
            "visibility": null,
            "width": null
          }
        },
        "e461ce54db7241f79f537435cf9ea37c": {
          "model_module": "@jupyter-widgets/controls",
          "model_name": "DescriptionStyleModel",
          "model_module_version": "1.5.0",
          "state": {
            "_model_module": "@jupyter-widgets/controls",
            "_model_module_version": "1.5.0",
            "_model_name": "DescriptionStyleModel",
            "_view_count": null,
            "_view_module": "@jupyter-widgets/base",
            "_view_module_version": "1.2.0",
            "_view_name": "StyleView",
            "description_width": ""
          }
        },
        "6f04f85eb833485f957298f9820ec699": {
          "model_module": "@jupyter-widgets/base",
          "model_name": "LayoutModel",
          "model_module_version": "1.2.0",
          "state": {
            "_model_module": "@jupyter-widgets/base",
            "_model_module_version": "1.2.0",
            "_model_name": "LayoutModel",
            "_view_count": null,
            "_view_module": "@jupyter-widgets/base",
            "_view_module_version": "1.2.0",
            "_view_name": "LayoutView",
            "align_content": null,
            "align_items": null,
            "align_self": null,
            "border": null,
            "bottom": null,
            "display": null,
            "flex": null,
            "flex_flow": null,
            "grid_area": null,
            "grid_auto_columns": null,
            "grid_auto_flow": null,
            "grid_auto_rows": null,
            "grid_column": null,
            "grid_gap": null,
            "grid_row": null,
            "grid_template_areas": null,
            "grid_template_columns": null,
            "grid_template_rows": null,
            "height": null,
            "justify_content": null,
            "justify_items": null,
            "left": null,
            "margin": null,
            "max_height": null,
            "max_width": null,
            "min_height": null,
            "min_width": null,
            "object_fit": null,
            "object_position": null,
            "order": null,
            "overflow": null,
            "overflow_x": null,
            "overflow_y": null,
            "padding": null,
            "right": null,
            "top": null,
            "visibility": null,
            "width": null
          }
        },
        "48c54d0d0b8f4b658aadade574ec0b45": {
          "model_module": "@jupyter-widgets/controls",
          "model_name": "ProgressStyleModel",
          "model_module_version": "1.5.0",
          "state": {
            "_model_module": "@jupyter-widgets/controls",
            "_model_module_version": "1.5.0",
            "_model_name": "ProgressStyleModel",
            "_view_count": null,
            "_view_module": "@jupyter-widgets/base",
            "_view_module_version": "1.2.0",
            "_view_name": "StyleView",
            "bar_color": null,
            "description_width": ""
          }
        },
        "9fb2df0b434148b49f1522c128382541": {
          "model_module": "@jupyter-widgets/base",
          "model_name": "LayoutModel",
          "model_module_version": "1.2.0",
          "state": {
            "_model_module": "@jupyter-widgets/base",
            "_model_module_version": "1.2.0",
            "_model_name": "LayoutModel",
            "_view_count": null,
            "_view_module": "@jupyter-widgets/base",
            "_view_module_version": "1.2.0",
            "_view_name": "LayoutView",
            "align_content": null,
            "align_items": null,
            "align_self": null,
            "border": null,
            "bottom": null,
            "display": null,
            "flex": null,
            "flex_flow": null,
            "grid_area": null,
            "grid_auto_columns": null,
            "grid_auto_flow": null,
            "grid_auto_rows": null,
            "grid_column": null,
            "grid_gap": null,
            "grid_row": null,
            "grid_template_areas": null,
            "grid_template_columns": null,
            "grid_template_rows": null,
            "height": null,
            "justify_content": null,
            "justify_items": null,
            "left": null,
            "margin": null,
            "max_height": null,
            "max_width": null,
            "min_height": null,
            "min_width": null,
            "object_fit": null,
            "object_position": null,
            "order": null,
            "overflow": null,
            "overflow_x": null,
            "overflow_y": null,
            "padding": null,
            "right": null,
            "top": null,
            "visibility": null,
            "width": null
          }
        },
        "efc259ad27d1453aba0b0d4830a6580b": {
          "model_module": "@jupyter-widgets/controls",
          "model_name": "DescriptionStyleModel",
          "model_module_version": "1.5.0",
          "state": {
            "_model_module": "@jupyter-widgets/controls",
            "_model_module_version": "1.5.0",
            "_model_name": "DescriptionStyleModel",
            "_view_count": null,
            "_view_module": "@jupyter-widgets/base",
            "_view_module_version": "1.2.0",
            "_view_name": "StyleView",
            "description_width": ""
          }
        }
      }
    }
  },
  "cells": [
    {
      "cell_type": "code",
      "execution_count": 1,
      "metadata": {
        "colab": {
          "base_uri": "https://localhost:8080/"
        },
        "id": "8nqKgzE5re6V",
        "outputId": "b99c357b-d5e1-4d5b-f038-5b21b84b1b68"
      },
      "outputs": [
        {
          "output_type": "stream",
          "name": "stdout",
          "text": [
            "Mounted at /content/drive\n"
          ]
        }
      ],
      "source": [
        "from google.colab import drive\n",
        "drive.mount('/content/drive')"
      ]
    },
    {
      "cell_type": "code",
      "source": [
        "classes = [\"stop_sign\",\"person\",\"bicycle\",\"bus\",\"truck\",\"car\",\"motorbike\",\"reflective_cone\",\"ashcan\",\"warning_column\",\n",
        "               \"spherical_roadblock\",\"pole\",\"dog\",\"tricycle\",\"fire_hydrant\"]"
      ],
      "metadata": {
        "id": "DTIO32jQhQFs"
      },
      "execution_count": 2,
      "outputs": []
    },
    {
      "cell_type": "code",
      "source": [
        "PathToDataset = \"/content/drive/MyDrive/ssd-object-detection-master/data/dataset/Obstacle Dataset\"\n",
        "TrainImage = PathToDataset + \"/img-train/\"\n",
        "valImage = PathToDataset + \"/img-val/\"\n",
        "testImage = PathToDataset + \"/img-test/\"\n",
        "trainAnn = PathToDataset + \"/ann-train/\"\n",
        "testAnn =  PathToDataset + \"/ann-test/\"\n",
        "valAnn = PathToDataset + \"/ann-val/\""
      ],
      "metadata": {
        "id": "Y9Xsze0QNZIH"
      },
      "execution_count": 4,
      "outputs": []
    },
    {
      "cell_type": "code",
      "source": [
        "def get_dataframe(annotations_path):\n",
        "    D =    {'image_name' : [],\n",
        "            'num_objects': [],\n",
        "            'BB_xywh': [],\n",
        "            'object_ids' : []}    \n",
        "    for line in open(annotations_path, 'r'):\n",
        "        image_name, num_objects, *annotations = line.split()\n",
        "        annotations_list = [list(map(int, annotations[i:i+4])) for i in range(0, len(annotations), 5)]\n",
        "        object_id_list = [int(annotations[i+4]) for i in range(0, len(annotations), 5)]\n",
        "        D['image_name'].append(image_name)\n",
        "        D['num_objects'].append(num_objects)\n",
        "        D['BB_xywh'].append(annotations_list)\n",
        "        D['object_ids'].append(object_id_list)    \n",
        "    df = pd.DataFrame(D)\n",
        "    return df"
      ],
      "metadata": {
        "id": "UqxpPeXonaBp"
      },
      "execution_count": 8,
      "outputs": []
    },
    {
      "cell_type": "code",
      "source": [
        "import os \n",
        "import numpy as np\n",
        "import xml.etree.ElementTree as ET\n",
        "from collections import OrderedDict\n",
        "import matplotlib.pyplot as plt\n",
        "import pandas as pd \n",
        "\n",
        "def extract_single_xml_file(tree):\n",
        "    Nobj = 0\n",
        "    row  = OrderedDict()\n",
        "    anotationList = []\n",
        "    nameList = []\n",
        "    idList = []\n",
        "    boxes = []\n",
        "    for elems in tree.iter():\n",
        "\n",
        "        if elems.tag == \"object\":\n",
        "            for elem in elems:\n",
        "                if elem.tag == \"name\":\n",
        "                    idList.append(int(classes.index(str(elem.text))))             \n",
        "                if elem.tag == \"bndbox\":\n",
        "                    for k in elem:\n",
        "                      boxes.append(int(k.text))\n",
        "                    anotationList.append(boxes)\n",
        "                    boxes = []\n",
        "            Nobj += 1\n",
        "                    \n",
        "    row[\"num_objects\"] = Nobj\n",
        "    row[\"BB_xywh\"] = anotationList\n",
        "    row[\"object_ids\"] = idList\n",
        "    return(row)"
      ],
      "metadata": {
        "id": "Yy0fVShePtgp"
      },
      "execution_count": 5,
      "outputs": []
    },
    {
      "cell_type": "code",
      "source": [
        "train_anno = []\n",
        "for fnm in os.listdir(trainAnn):  \n",
        "    if not fnm.startswith('.'): ## do not include hidden folders/files\n",
        "        tree = ET.parse(os.path.join(trainAnn,fnm))\n",
        "        row = extract_single_xml_file(tree)\n",
        "        row[\"image_name\"] = fnm.split(\".\")[0]+\".jpg\"\n",
        "        train_anno.append(row)\n",
        "train_anno = pd.DataFrame(train_anno)\n",
        "maxNobj = np.max(train_anno[\"num_objects\"])"
      ],
      "metadata": {
        "id": "PC3BYB0fPxuW"
      },
      "execution_count": 6,
      "outputs": []
    },
    {
      "cell_type": "code",
      "source": [
        "print(\"columns in df_anno\\n-----------------\")\n",
        "for icol, colnm in enumerate(train_anno.columns):\n",
        "    print(\"{:3.0f}: {}\".format(icol,colnm))\n",
        "print(\"-\"*30)\n",
        "print(\"df_anno.shape={}=(N frames, N columns)\".format(train_anno.shape))\n",
        "train_anno.head()"
      ],
      "metadata": {
        "colab": {
          "base_uri": "https://localhost:8080/",
          "height": 351
        },
        "id": "BATXb0iiQnIA",
        "outputId": "05b2ea9a-dfc5-4e81-d042-6cebbc5a6b3c"
      },
      "execution_count": 7,
      "outputs": [
        {
          "output_type": "stream",
          "name": "stdout",
          "text": [
            "columns in df_anno\n",
            "-----------------\n",
            "  0: num_objects\n",
            "  1: BB_xywh\n",
            "  2: object_ids\n",
            "  3: image_name\n",
            "------------------------------\n",
            "df_anno.shape=(4566, 4)=(N frames, N columns)\n"
          ]
        },
        {
          "output_type": "execute_result",
          "data": {
            "text/plain": [
              "   num_objects                                            BB_xywh  \\\n",
              "0            7  [[478, 307, 640, 485], [5, 331, 86, 485], [0, ...   \n",
              "1            6  [[516, 183, 564, 200], [480, 179, 526, 197], [...   \n",
              "2            3  [[183, 328, 213, 379], [417, 139, 448, 199], [...   \n",
              "3           17  [[202, 185, 439, 342], [0, 162, 237, 319], [92...   \n",
              "4            1                               [[1, 114, 602, 541]]   \n",
              "\n",
              "                                          object_ids        image_name  \n",
              "0                              [5, 5, 5, 5, 4, 1, 1]  000000232551.jpg  \n",
              "1                                 [5, 5, 5, 5, 4, 5]  000000163897.jpg  \n",
              "2                                         [1, 1, 12]  000000062347.jpg  \n",
              "3  [6, 6, 1, 1, 1, 1, 1, 1, 1, 1, 1, 1, 1, 1, 4, ...  000000063782.jpg  \n",
              "4                                               [12]  000000100500.jpg  "
            ],
            "text/html": [
              "\n",
              "  <div id=\"df-812b86ed-18af-4a2e-8e83-9eb42c50e519\">\n",
              "    <div class=\"colab-df-container\">\n",
              "      <div>\n",
              "<style scoped>\n",
              "    .dataframe tbody tr th:only-of-type {\n",
              "        vertical-align: middle;\n",
              "    }\n",
              "\n",
              "    .dataframe tbody tr th {\n",
              "        vertical-align: top;\n",
              "    }\n",
              "\n",
              "    .dataframe thead th {\n",
              "        text-align: right;\n",
              "    }\n",
              "</style>\n",
              "<table border=\"1\" class=\"dataframe\">\n",
              "  <thead>\n",
              "    <tr style=\"text-align: right;\">\n",
              "      <th></th>\n",
              "      <th>num_objects</th>\n",
              "      <th>BB_xywh</th>\n",
              "      <th>object_ids</th>\n",
              "      <th>image_name</th>\n",
              "    </tr>\n",
              "  </thead>\n",
              "  <tbody>\n",
              "    <tr>\n",
              "      <th>0</th>\n",
              "      <td>7</td>\n",
              "      <td>[[478, 307, 640, 485], [5, 331, 86, 485], [0, ...</td>\n",
              "      <td>[5, 5, 5, 5, 4, 1, 1]</td>\n",
              "      <td>000000232551.jpg</td>\n",
              "    </tr>\n",
              "    <tr>\n",
              "      <th>1</th>\n",
              "      <td>6</td>\n",
              "      <td>[[516, 183, 564, 200], [480, 179, 526, 197], [...</td>\n",
              "      <td>[5, 5, 5, 5, 4, 5]</td>\n",
              "      <td>000000163897.jpg</td>\n",
              "    </tr>\n",
              "    <tr>\n",
              "      <th>2</th>\n",
              "      <td>3</td>\n",
              "      <td>[[183, 328, 213, 379], [417, 139, 448, 199], [...</td>\n",
              "      <td>[1, 1, 12]</td>\n",
              "      <td>000000062347.jpg</td>\n",
              "    </tr>\n",
              "    <tr>\n",
              "      <th>3</th>\n",
              "      <td>17</td>\n",
              "      <td>[[202, 185, 439, 342], [0, 162, 237, 319], [92...</td>\n",
              "      <td>[6, 6, 1, 1, 1, 1, 1, 1, 1, 1, 1, 1, 1, 1, 4, ...</td>\n",
              "      <td>000000063782.jpg</td>\n",
              "    </tr>\n",
              "    <tr>\n",
              "      <th>4</th>\n",
              "      <td>1</td>\n",
              "      <td>[[1, 114, 602, 541]]</td>\n",
              "      <td>[12]</td>\n",
              "      <td>000000100500.jpg</td>\n",
              "    </tr>\n",
              "  </tbody>\n",
              "</table>\n",
              "</div>\n",
              "      <button class=\"colab-df-convert\" onclick=\"convertToInteractive('df-812b86ed-18af-4a2e-8e83-9eb42c50e519')\"\n",
              "              title=\"Convert this dataframe to an interactive table.\"\n",
              "              style=\"display:none;\">\n",
              "        \n",
              "  <svg xmlns=\"http://www.w3.org/2000/svg\" height=\"24px\"viewBox=\"0 0 24 24\"\n",
              "       width=\"24px\">\n",
              "    <path d=\"M0 0h24v24H0V0z\" fill=\"none\"/>\n",
              "    <path d=\"M18.56 5.44l.94 2.06.94-2.06 2.06-.94-2.06-.94-.94-2.06-.94 2.06-2.06.94zm-11 1L8.5 8.5l.94-2.06 2.06-.94-2.06-.94L8.5 2.5l-.94 2.06-2.06.94zm10 10l.94 2.06.94-2.06 2.06-.94-2.06-.94-.94-2.06-.94 2.06-2.06.94z\"/><path d=\"M17.41 7.96l-1.37-1.37c-.4-.4-.92-.59-1.43-.59-.52 0-1.04.2-1.43.59L10.3 9.45l-7.72 7.72c-.78.78-.78 2.05 0 2.83L4 21.41c.39.39.9.59 1.41.59.51 0 1.02-.2 1.41-.59l7.78-7.78 2.81-2.81c.8-.78.8-2.07 0-2.86zM5.41 20L4 18.59l7.72-7.72 1.47 1.35L5.41 20z\"/>\n",
              "  </svg>\n",
              "      </button>\n",
              "      \n",
              "  <style>\n",
              "    .colab-df-container {\n",
              "      display:flex;\n",
              "      flex-wrap:wrap;\n",
              "      gap: 12px;\n",
              "    }\n",
              "\n",
              "    .colab-df-convert {\n",
              "      background-color: #E8F0FE;\n",
              "      border: none;\n",
              "      border-radius: 50%;\n",
              "      cursor: pointer;\n",
              "      display: none;\n",
              "      fill: #1967D2;\n",
              "      height: 32px;\n",
              "      padding: 0 0 0 0;\n",
              "      width: 32px;\n",
              "    }\n",
              "\n",
              "    .colab-df-convert:hover {\n",
              "      background-color: #E2EBFA;\n",
              "      box-shadow: 0px 1px 2px rgba(60, 64, 67, 0.3), 0px 1px 3px 1px rgba(60, 64, 67, 0.15);\n",
              "      fill: #174EA6;\n",
              "    }\n",
              "\n",
              "    [theme=dark] .colab-df-convert {\n",
              "      background-color: #3B4455;\n",
              "      fill: #D2E3FC;\n",
              "    }\n",
              "\n",
              "    [theme=dark] .colab-df-convert:hover {\n",
              "      background-color: #434B5C;\n",
              "      box-shadow: 0px 1px 3px 1px rgba(0, 0, 0, 0.15);\n",
              "      filter: drop-shadow(0px 1px 2px rgba(0, 0, 0, 0.3));\n",
              "      fill: #FFFFFF;\n",
              "    }\n",
              "  </style>\n",
              "\n",
              "      <script>\n",
              "        const buttonEl =\n",
              "          document.querySelector('#df-812b86ed-18af-4a2e-8e83-9eb42c50e519 button.colab-df-convert');\n",
              "        buttonEl.style.display =\n",
              "          google.colab.kernel.accessAllowed ? 'block' : 'none';\n",
              "\n",
              "        async function convertToInteractive(key) {\n",
              "          const element = document.querySelector('#df-812b86ed-18af-4a2e-8e83-9eb42c50e519');\n",
              "          const dataTable =\n",
              "            await google.colab.kernel.invokeFunction('convertToInteractive',\n",
              "                                                     [key], {});\n",
              "          if (!dataTable) return;\n",
              "\n",
              "          const docLinkHtml = 'Like what you see? Visit the ' +\n",
              "            '<a target=\"_blank\" href=https://colab.research.google.com/notebooks/data_table.ipynb>data table notebook</a>'\n",
              "            + ' to learn more about interactive tables.';\n",
              "          element.innerHTML = '';\n",
              "          dataTable['output_type'] = 'display_data';\n",
              "          await google.colab.output.renderOutput(dataTable, element);\n",
              "          const docLink = document.createElement('div');\n",
              "          docLink.innerHTML = docLinkHtml;\n",
              "          element.appendChild(docLink);\n",
              "        }\n",
              "      </script>\n",
              "    </div>\n",
              "  </div>\n",
              "  "
            ]
          },
          "metadata": {},
          "execution_count": 7
        }
      ]
    },
    {
      "cell_type": "code",
      "source": [
        "plt.hist(train_anno[\"num_objects\"].values,bins=100)\n",
        "plt.title(\"max N of objects per image={}\".format(maxNobj))\n",
        "plt.show()"
      ],
      "metadata": {
        "colab": {
          "base_uri": "https://localhost:8080/",
          "height": 281
        },
        "id": "MLK0DdFmhxY4",
        "outputId": "813f9b34-6d04-43d4-ead2-51e6c967a2a9"
      },
      "execution_count": 8,
      "outputs": [
        {
          "output_type": "display_data",
          "data": {
            "text/plain": [
              "<Figure size 432x288 with 1 Axes>"
            ],
            "image/png": "[encoded data removed]"
          },
          "metadata": {
            "needs_background": "light"
          }
        }
      ]
    },
    {
      "cell_type": "code",
      "source": [
        "val_anno = []\n",
        "for fnm in os.listdir(valAnn):  \n",
        "    if not fnm.startswith('.'): ## do not include hidden folders/files\n",
        "        tree = ET.parse(os.path.join(valAnn,fnm))\n",
        "        row = extract_single_xml_file(tree)\n",
        "        row[\"image_name\"] = fnm.split(\".\")[0]+\".jpg\"\n",
        "        val_anno.append(row)\n",
        "val_anno = pd.DataFrame(val_anno)\n",
        "maxNobj = np.max(val_anno[\"num_objects\"])"
      ],
      "metadata": {
        "id": "TnBXV-YwfssK"
      },
      "execution_count": 9,
      "outputs": []
    },
    {
      "cell_type": "code",
      "source": [
        "print(\"columns in df_anno\\n-----------------\")\n",
        "for icol, colnm in enumerate(val_anno.columns):\n",
        "    print(\"{:3.0f}: {}\".format(icol,colnm))\n",
        "print(\"-\"*30)\n",
        "print(\"df_anno.shape={}=(N frames, N columns)\".format(val_anno.shape))\n",
        "val_anno.head()"
      ],
      "metadata": {
        "colab": {
          "base_uri": "https://localhost:8080/",
          "height": 351
        },
        "id": "-KR8J5oVgPHF",
        "outputId": "c7ba1410-5467-4b79-dad4-53ba72f44579"
      },
      "execution_count": 10,
      "outputs": [
        {
          "output_type": "stream",
          "name": "stdout",
          "text": [
            "columns in df_anno\n",
            "-----------------\n",
            "  0: num_objects\n",
            "  1: BB_xywh\n",
            "  2: object_ids\n",
            "  3: image_name\n",
            "------------------------------\n",
            "df_anno.shape=(766, 4)=(N frames, N columns)\n"
          ]
        },
        {
          "output_type": "execute_result",
          "data": {
            "text/plain": [
              "   num_objects                                            BB_xywh  \\\n",
              "0            1                              [[80, 111, 144, 210]]   \n",
              "1            1                               [[379, 2, 493, 783]]   \n",
              "2            6  [[1731, 172, 1876, 270], [950, 168, 1207, 261]...   \n",
              "3           17  [[2827, 1242, 3525, 1969], [3319, 1315, 3958, ...   \n",
              "4            1                             [[414, 295, 512, 555]]   \n",
              "\n",
              "                                          object_ids    image_name  \n",
              "0                                                [7]   0524276.jpg  \n",
              "1                                               [11]  06080001.jpg  \n",
              "2                               [6, 5, 7, 7, 11, 11]   0000679.jpg  \n",
              "3  [6, 6, 1, 1, 1, 6, 2, 1, 1, 1, 7, 7, 7, 7, 7, ...   0006206.jpg  \n",
              "4                                                [7]   0524180.jpg  "
            ],
            "text/html": [
              "\n",
              "  <div id=\"df-5ae5b11e-87be-487a-add7-9ff5aaa2c212\">\n",
              "    <div class=\"colab-df-container\">\n",
              "      <div>\n",
              "<style scoped>\n",
              "    .dataframe tbody tr th:only-of-type {\n",
              "        vertical-align: middle;\n",
              "    }\n",
              "\n",
              "    .dataframe tbody tr th {\n",
              "        vertical-align: top;\n",
              "    }\n",
              "\n",
              "    .dataframe thead th {\n",
              "        text-align: right;\n",
              "    }\n",
              "</style>\n",
              "<table border=\"1\" class=\"dataframe\">\n",
              "  <thead>\n",
              "    <tr style=\"text-align: right;\">\n",
              "      <th></th>\n",
              "      <th>num_objects</th>\n",
              "      <th>BB_xywh</th>\n",
              "      <th>object_ids</th>\n",
              "      <th>image_name</th>\n",
              "    </tr>\n",
              "  </thead>\n",
              "  <tbody>\n",
              "    <tr>\n",
              "      <th>0</th>\n",
              "      <td>1</td>\n",
              "      <td>[[80, 111, 144, 210]]</td>\n",
              "      <td>[7]</td>\n",
              "      <td>0524276.jpg</td>\n",
              "    </tr>\n",
              "    <tr>\n",
              "      <th>1</th>\n",
              "      <td>1</td>\n",
              "      <td>[[379, 2, 493, 783]]</td>\n",
              "      <td>[11]</td>\n",
              "      <td>06080001.jpg</td>\n",
              "    </tr>\n",
              "    <tr>\n",
              "      <th>2</th>\n",
              "      <td>6</td>\n",
              "      <td>[[1731, 172, 1876, 270], [950, 168, 1207, 261]...</td>\n",
              "      <td>[6, 5, 7, 7, 11, 11]</td>\n",
              "      <td>0000679.jpg</td>\n",
              "    </tr>\n",
              "    <tr>\n",
              "      <th>3</th>\n",
              "      <td>17</td>\n",
              "      <td>[[2827, 1242, 3525, 1969], [3319, 1315, 3958, ...</td>\n",
              "      <td>[6, 6, 1, 1, 1, 6, 2, 1, 1, 1, 7, 7, 7, 7, 7, ...</td>\n",
              "      <td>0006206.jpg</td>\n",
              "    </tr>\n",
              "    <tr>\n",
              "      <th>4</th>\n",
              "      <td>1</td>\n",
              "      <td>[[414, 295, 512, 555]]</td>\n",
              "      <td>[7]</td>\n",
              "      <td>0524180.jpg</td>\n",
              "    </tr>\n",
              "  </tbody>\n",
              "</table>\n",
              "</div>\n",
              "      <button class=\"colab-df-convert\" onclick=\"convertToInteractive('df-5ae5b11e-87be-487a-add7-9ff5aaa2c212')\"\n",
              "              title=\"Convert this dataframe to an interactive table.\"\n",
              "              style=\"display:none;\">\n",
              "        \n",
              "  <svg xmlns=\"http://www.w3.org/2000/svg\" height=\"24px\"viewBox=\"0 0 24 24\"\n",
              "       width=\"24px\">\n",
              "    <path d=\"M0 0h24v24H0V0z\" fill=\"none\"/>\n",
              "    <path d=\"M18.56 5.44l.94 2.06.94-2.06 2.06-.94-2.06-.94-.94-2.06-.94 2.06-2.06.94zm-11 1L8.5 8.5l.94-2.06 2.06-.94-2.06-.94L8.5 2.5l-.94 2.06-2.06.94zm10 10l.94 2.06.94-2.06 2.06-.94-2.06-.94-.94-2.06-.94 2.06-2.06.94z\"/><path d=\"M17.41 7.96l-1.37-1.37c-.4-.4-.92-.59-1.43-.59-.52 0-1.04.2-1.43.59L10.3 9.45l-7.72 7.72c-.78.78-.78 2.05 0 2.83L4 21.41c.39.39.9.59 1.41.59.51 0 1.02-.2 1.41-.59l7.78-7.78 2.81-2.81c.8-.78.8-2.07 0-2.86zM5.41 20L4 18.59l7.72-7.72 1.47 1.35L5.41 20z\"/>\n",
              "  </svg>\n",
              "      </button>\n",
              "      \n",
              "  <style>\n",
              "    .colab-df-container {\n",
              "      display:flex;\n",
              "      flex-wrap:wrap;\n",
              "      gap: 12px;\n",
              "    }\n",
              "\n",
              "    .colab-df-convert {\n",
              "      background-color: #E8F0FE;\n",
              "      border: none;\n",
              "      border-radius: 50%;\n",
              "      cursor: pointer;\n",
              "      display: none;\n",
              "      fill: #1967D2;\n",
              "      height: 32px;\n",
              "      padding: 0 0 0 0;\n",
              "      width: 32px;\n",
              "    }\n",
              "\n",
              "    .colab-df-convert:hover {\n",
              "      background-color: #E2EBFA;\n",
              "      box-shadow: 0px 1px 2px rgba(60, 64, 67, 0.3), 0px 1px 3px 1px rgba(60, 64, 67, 0.15);\n",
              "      fill: #174EA6;\n",
              "    }\n",
              "\n",
              "    [theme=dark] .colab-df-convert {\n",
              "      background-color: #3B4455;\n",
              "      fill: #D2E3FC;\n",
              "    }\n",
              "\n",
              "    [theme=dark] .colab-df-convert:hover {\n",
              "      background-color: #434B5C;\n",
              "      box-shadow: 0px 1px 3px 1px rgba(0, 0, 0, 0.15);\n",
              "      filter: drop-shadow(0px 1px 2px rgba(0, 0, 0, 0.3));\n",
              "      fill: #FFFFFF;\n",
              "    }\n",
              "  </style>\n",
              "\n",
              "      <script>\n",
              "        const buttonEl =\n",
              "          document.querySelector('#df-5ae5b11e-87be-487a-add7-9ff5aaa2c212 button.colab-df-convert');\n",
              "        buttonEl.style.display =\n",
              "          google.colab.kernel.accessAllowed ? 'block' : 'none';\n",
              "\n",
              "        async function convertToInteractive(key) {\n",
              "          const element = document.querySelector('#df-5ae5b11e-87be-487a-add7-9ff5aaa2c212');\n",
              "          const dataTable =\n",
              "            await google.colab.kernel.invokeFunction('convertToInteractive',\n",
              "                                                     [key], {});\n",
              "          if (!dataTable) return;\n",
              "\n",
              "          const docLinkHtml = 'Like what you see? Visit the ' +\n",
              "            '<a target=\"_blank\" href=https://colab.research.google.com/notebooks/data_table.ipynb>data table notebook</a>'\n",
              "            + ' to learn more about interactive tables.';\n",
              "          element.innerHTML = '';\n",
              "          dataTable['output_type'] = 'display_data';\n",
              "          await google.colab.output.renderOutput(dataTable, element);\n",
              "          const docLink = document.createElement('div');\n",
              "          docLink.innerHTML = docLinkHtml;\n",
              "          element.appendChild(docLink);\n",
              "        }\n",
              "      </script>\n",
              "    </div>\n",
              "  </div>\n",
              "  "
            ]
          },
          "metadata": {},
          "execution_count": 10
        }
      ]
    },
    {
      "cell_type": "code",
      "source": [
        "%cd /content/drive/My Drive/ssd-object-detection-master"
      ],
      "metadata": {
        "colab": {
          "base_uri": "https://localhost:8080/"
        },
        "id": "c702RBvnlzbV",
        "outputId": "a1273c6e-82a5-4ff8-a736-13afca2c2bd9"
      },
      "execution_count": 11,
      "outputs": [
        {
          "output_type": "stream",
          "name": "stdout",
          "text": [
            "/content/drive/My Drive/ssd-object-detection-master\n"
          ]
        }
      ]
    },
    {
      "cell_type": "code",
      "source": [
        "import utils\n",
        "import torch\n",
        "from ssdconfig import SSDConfig\n",
        "from data import ShelfImageDataset, collate_fn, get_dataframe\n",
        "from torch.utils.data import DataLoader\n",
        "from torch.optim import SGD\n",
        "from ssd import SSD, MultiBoxLoss\n",
        "from trainer import train, eval\n",
        "\n",
        "config = SSDConfig()\n",
        "device = config.DEVICE\n",
        "\n",
        "\n",
        "config.PATH_TO_CHECKPOINT = \"/content/drive/My Drive/ssd-object-detection-master/checkpoint/checkpoint_ssd_1.pth.tar\"\n",
        "\n",
        "config.PRINT_FREQ = 35\n",
        "config.VGG_BN_FLAG = True\n",
        "config.TRAIN_BATCH_SIZE = 16\n",
        "config.LEARNING_RATE = 0.001\n",
        "config.USE_PRETRAINED_VGG = True\n",
        "config.NUM_ITERATIONS_TRAIN = 2500 "
      ],
      "metadata": {
        "id": "frtDsVUNsxT5"
      },
      "execution_count": 12,
      "outputs": []
    },
    {
      "cell_type": "code",
      "source": [
        "dataset_tr = ShelfImageDataset(train_anno, TrainImage, train=True)\n",
        "dataloader_tr = DataLoader(dataset_tr,\n",
        "                           shuffle=True,\n",
        "                           collate_fn=collate_fn,\n",
        "                           batch_size=config.TRAIN_BATCH_SIZE,\n",
        "                           num_workers=config.NUM_DATALOADER_WORKERS)\n",
        "\n",
        "dataset_te = ShelfImageDataset(val_anno, valImage, train=False)\n",
        "dataloader_te = DataLoader(dataset_te,\n",
        "                           shuffle=True,\n",
        "                           collate_fn=collate_fn,\n",
        "                           batch_size=config.TRAIN_BATCH_SIZE,\n",
        "                           num_workers=config.NUM_DATALOADER_WORKERS)"
      ],
      "metadata": {
        "id": "-oiXNEGCtTCe"
      },
      "execution_count": 13,
      "outputs": []
    },
    {
      "cell_type": "code",
      "source": [
        "\n",
        "\n",
        "print('PATH_TO_CHECKPOINT not specified in SSDConfig.\\nMaking new model and optimizer.')\n",
        "start_epoch = 0\n",
        "model = SSD(config)\n",
        "model_parameters = utils.get_model_params(model)\n",
        "optimizer = SGD(params=[{'params': model_parameters['biases'], 'lr': 2 * config.LEARNING_RATE},\n",
        "                        {'params': model_parameters['not_biases']}],\n",
        "                        lr=config.LEARNING_RATE,\n",
        "                        momentum=config.MOMENTUM,\n",
        "                        weight_decay=config.WEIGHT_DECAY)\n",
        "\n",
        "\n",
        "model.to(device)\n",
        "criterion = MultiBoxLoss(model.priors_cxcy, config).to(device)\n",
        "\n",
        "epochs = config.NUM_ITERATIONS_TRAIN // len(dataloader_tr)\n",
        "\n",
        "decay_at_epoch = [int(epochs*x) for x in config.DECAY_LR_AT]\n",
        "\n",
        "\n",
        "\n",
        "for epoch in range(start_epoch, epochs):\n",
        "    if epoch in decay_at_epoch:\n",
        "        utils.adjust_learning_rate(optimizer, config.DECAY_FRAC)\n",
        "    train(dataloader_tr, model, criterion, optimizer, epoch)\n",
        "    print('Model checkpoint.', end=' ' )\n",
        "    utils.save_checkpoint(epoch, model, optimizer, config, config.PATH_TO_CHECKPOINT)\n",
        "    print('Model Evaluation.', end=' :: ')\n",
        "    print('mAP: ' + str(eval(model, dataloader_te, 0.6, 0.4)))\n",
        "\n",
        "utils.save_checkpoint(epoch, model, optimizer, config, config.PATH_TO_CHECKPOINT)"
      ],
      "metadata": {
        "colab": {
          "base_uri": "https://localhost:8080/",
          "height": 1000,
          "referenced_widgets": [
            "8b5719792698443d87a1fd97b3dd070f",
            "c7ccd8cab7dc4604a4e38792a7fec40a",
            "0ed85fd7765c4366a6c3be031caa555c",
            "a7b12db6287146c7af40758759b372cd",
            "80c4579b2087414a8e7258316e57fb3e",
            "c8e961f925e849ec8fa02f3883520f8f",
            "e461ce54db7241f79f537435cf9ea37c",
            "6f04f85eb833485f957298f9820ec699",
            "48c54d0d0b8f4b658aadade574ec0b45",
            "9fb2df0b434148b49f1522c128382541",
            "efc259ad27d1453aba0b0d4830a6580b"
          ]
        },
        "id": "FV9aDj7ztYk-",
        "outputId": "cb9deaa1-61b5-49f3-ac9d-e099b1c9d6ef"
      },
      "execution_count": 14,
      "outputs": [
        {
          "output_type": "stream",
          "name": "stdout",
          "text": [
            "PATH_TO_CHECKPOINT not specified in SSDConfig.\n",
            "Making new model and optimizer.\n"
          ]
        },
        {
          "output_type": "stream",
          "name": "stderr",
          "text": [
            "Downloading: \"https://download.pytorch.org/models/vgg16_bn-6c64b313.pth\" to /root/.cache/torch/hub/checkpoints/vgg16_bn-6c64b313.pth\n"
          ]
        },
        {
          "output_type": "display_data",
          "data": {
            "text/plain": [
              "  0%|          | 0.00/528M [00:00<?, ?B/s]"
            ],
            "application/vnd.jupyter.widget-view+json": {
              "version_major": 2,
              "version_minor": 0,
              "model_id": "8b5719792698443d87a1fd97b3dd070f"
            }
          },
          "metadata": {}
        },
        {
          "output_type": "stream",
          "name": "stderr",
          "text": [
            "/usr/local/lib/python3.7/dist-packages/torch/nn/_reduction.py:42: UserWarning: size_average and reduce args will be deprecated, please use reduction='none' instead.\n",
            "  warnings.warn(warning.format(ret))\n",
            "/usr/local/lib/python3.7/dist-packages/torch/nn/functional.py:780: UserWarning: Note that order of the arguments: ceil_mode and return_indices will changeto match the args list in nn.MaxPool2d in a future release.\n",
            "  warnings.warn(\"Note that order of the arguments: ceil_mode and return_indices will change\"\n"
          ]
        },
        {
          "output_type": "stream",
          "name": "stdout",
          "text": [
            "Epoch: [0][0/218]\tBatch Time 7.172 (7.172)\tData Time 4.642 (4.642)\tLoss 12.5702 (12.5702)\t\n",
            "Epoch: [0][35/218]\tBatch Time 1.789 (3.517)\tData Time 0.031 (1.739)\tLoss 11.3390 (11.8384)\t\n",
            "Epoch: [0][70/218]\tBatch Time 1.785 (2.665)\tData Time 0.033 (0.897)\tLoss 8.7228 (10.9053)\t\n",
            "Epoch: [0][105/218]\tBatch Time 1.779 (2.376)\tData Time 0.028 (0.611)\tLoss 7.5744 (9.9498)\t\n",
            "Epoch: [0][140/218]\tBatch Time 1.783 (2.229)\tData Time 0.039 (0.467)\tLoss 6.2634 (9.1752)\t\n",
            "Epoch: [0][175/218]\tBatch Time 1.786 (2.141)\tData Time 0.030 (0.380)\tLoss 5.5962 (8.5193)\t\n",
            "Epoch: [0][210/218]\tBatch Time 1.781 (2.083)\tData Time 0.037 (0.322)\tLoss 4.9870 (7.9598)\t\n",
            "Model checkpoint. Model Evaluation. :: mAP: 0.024475526064634323\n",
            "Epoch: [1][0/218]\tBatch Time 2.721 (2.721)\tData Time 0.931 (0.931)\tLoss 5.2708 (5.2708)\t\n",
            "Epoch: [1][35/218]\tBatch Time 1.815 (1.825)\tData Time 0.046 (0.056)\tLoss 4.6659 (4.7586)\t\n",
            "Epoch: [1][70/218]\tBatch Time 1.778 (1.810)\tData Time 0.030 (0.045)\tLoss 4.2219 (4.5575)\t\n",
            "Epoch: [1][105/218]\tBatch Time 1.781 (1.802)\tData Time 0.031 (0.040)\tLoss 3.7813 (4.3315)\t\n",
            "Epoch: [1][140/218]\tBatch Time 1.797 (1.799)\tData Time 0.030 (0.038)\tLoss 3.6583 (4.2146)\t\n",
            "Epoch: [1][175/218]\tBatch Time 1.788 (1.797)\tData Time 0.031 (0.037)\tLoss 3.5762 (4.0943)\t\n",
            "Epoch: [1][210/218]\tBatch Time 1.790 (1.795)\tData Time 0.030 (0.036)\tLoss 3.5793 (4.0227)\t\n",
            "Model checkpoint. Model Evaluation. :: mAP: 0.13694852590560913\n",
            "Epoch: [2][0/218]\tBatch Time 2.667 (2.667)\tData Time 0.885 (0.885)\tLoss 3.9642 (3.9642)\t\n",
            "Epoch: [2][35/218]\tBatch Time 1.786 (1.813)\tData Time 0.033 (0.056)\tLoss 3.3512 (3.6347)\t\n",
            "Epoch: [2][70/218]\tBatch Time 1.789 (1.800)\tData Time 0.027 (0.044)\tLoss 3.4146 (3.5327)\t\n",
            "Epoch: [2][105/218]\tBatch Time 1.802 (1.799)\tData Time 0.029 (0.040)\tLoss 3.3336 (3.4872)\t\n",
            "Epoch: [2][140/218]\tBatch Time 1.816 (1.799)\tData Time 0.032 (0.038)\tLoss 3.2952 (3.4651)\t\n",
            "Epoch: [2][175/218]\tBatch Time 1.794 (1.799)\tData Time 0.030 (0.036)\tLoss 3.1724 (3.4481)\t\n",
            "Epoch: [2][210/218]\tBatch Time 1.787 (1.798)\tData Time 0.027 (0.035)\tLoss 3.2888 (3.4272)\t\n",
            "Model checkpoint. Model Evaluation. :: mAP: 0.0\n",
            "Epoch: [3][0/218]\tBatch Time 3.593 (3.593)\tData Time 1.828 (1.828)\tLoss 3.7114 (3.7114)\t\n",
            "Epoch: [3][35/218]\tBatch Time 1.800 (1.855)\tData Time 0.030 (0.085)\tLoss 3.3106 (3.3623)\t\n",
            "Epoch: [3][70/218]\tBatch Time 1.788 (1.826)\tData Time 0.026 (0.058)\tLoss 3.1930 (3.3640)\t\n",
            "Epoch: [3][105/218]\tBatch Time 1.791 (1.814)\tData Time 0.030 (0.048)\tLoss 3.3300 (3.3552)\t\n",
            "Epoch: [3][140/218]\tBatch Time 1.796 (1.809)\tData Time 0.029 (0.044)\tLoss 3.2595 (3.3452)\t\n",
            "Epoch: [3][175/218]\tBatch Time 1.798 (1.805)\tData Time 0.033 (0.041)\tLoss 3.2612 (3.3315)\t\n",
            "Epoch: [3][210/218]\tBatch Time 1.789 (1.803)\tData Time 0.028 (0.040)\tLoss 3.3032 (3.3246)\t\n",
            "Model checkpoint. Model Evaluation. :: mAP: 0.0\n",
            "Epoch: [4][0/218]\tBatch Time 2.651 (2.651)\tData Time 0.861 (0.861)\tLoss 3.8446 (3.8446)\t\n",
            "Epoch: [4][35/218]\tBatch Time 1.817 (1.818)\tData Time 0.031 (0.054)\tLoss 3.3609 (3.3032)\t\n",
            "Epoch: [4][70/218]\tBatch Time 1.788 (1.803)\tData Time 0.030 (0.042)\tLoss 3.4138 (3.3213)\t\n",
            "Epoch: [4][105/218]\tBatch Time 1.775 (1.796)\tData Time 0.031 (0.038)\tLoss 3.3878 (3.3091)\t\n",
            "Epoch: [4][140/218]\tBatch Time 1.787 (1.793)\tData Time 0.030 (0.036)\tLoss 3.3830 (3.3001)\t\n",
            "Epoch: [4][175/218]\tBatch Time 1.777 (1.790)\tData Time 0.030 (0.035)\tLoss 3.2762 (3.2949)\t\n",
            "Epoch: [4][210/218]\tBatch Time 1.767 (1.788)\tData Time 0.027 (0.034)\tLoss 3.1961 (3.2862)\t\n",
            "Model checkpoint. Model Evaluation. :: mAP: 0.0\n",
            "Epoch: [5][0/218]\tBatch Time 2.782 (2.782)\tData Time 0.983 (0.983)\tLoss 3.2185 (3.2185)\t\n",
            "Epoch: [5][35/218]\tBatch Time 1.788 (1.816)\tData Time 0.029 (0.057)\tLoss 3.3078 (3.2287)\t\n",
            "Epoch: [5][70/218]\tBatch Time 1.792 (1.801)\tData Time 0.039 (0.044)\tLoss 3.2941 (3.2281)\t\n",
            "Epoch: [5][105/218]\tBatch Time 1.782 (1.796)\tData Time 0.031 (0.040)\tLoss 2.9515 (3.2271)\t\n",
            "Epoch: [5][140/218]\tBatch Time 1.775 (1.794)\tData Time 0.030 (0.038)\tLoss 3.3271 (3.2273)\t\n",
            "Epoch: [5][175/218]\tBatch Time 1.777 (1.793)\tData Time 0.029 (0.036)\tLoss 3.3423 (3.2242)\t\n",
            "Epoch: [5][210/218]\tBatch Time 1.787 (1.792)\tData Time 0.030 (0.035)\tLoss 3.1364 (3.2193)\t\n",
            "Model checkpoint. Model Evaluation. :: mAP: 0.8671329021453857\n",
            "Epoch: [6][0/218]\tBatch Time 2.866 (2.866)\tData Time 1.079 (1.079)\tLoss 3.3089 (3.3089)\t\n",
            "Epoch: [6][35/218]\tBatch Time 1.797 (1.820)\tData Time 0.030 (0.060)\tLoss 3.4711 (3.2550)\t\n",
            "Epoch: [6][70/218]\tBatch Time 1.812 (1.808)\tData Time 0.033 (0.046)\tLoss 3.1141 (3.2349)\t\n",
            "Epoch: [6][105/218]\tBatch Time 1.805 (1.804)\tData Time 0.036 (0.041)\tLoss 3.0863 (3.2243)\t\n",
            "Epoch: [6][140/218]\tBatch Time 1.794 (1.801)\tData Time 0.028 (0.039)\tLoss 3.3731 (3.2179)\t\n",
            "Epoch: [6][175/218]\tBatch Time 1.791 (1.799)\tData Time 0.028 (0.037)\tLoss 2.9707 (3.2037)\t\n",
            "Epoch: [6][210/218]\tBatch Time 1.801 (1.798)\tData Time 0.036 (0.036)\tLoss 3.7220 (3.2074)\t\n",
            "Model checkpoint. Model Evaluation. :: mAP: 0.6216933727264404\n",
            "DECAYING learning rate.\n",
            " The new LR is 0.000100\n",
            "\n",
            "Epoch: [7][0/218]\tBatch Time 2.587 (2.587)\tData Time 0.799 (0.799)\tLoss 2.9500 (2.9500)\t\n",
            "Epoch: [7][35/218]\tBatch Time 1.812 (1.824)\tData Time 0.031 (0.054)\tLoss 2.9474 (3.1200)\t\n",
            "Epoch: [7][70/218]\tBatch Time 1.815 (1.812)\tData Time 0.048 (0.042)\tLoss 3.2276 (3.0994)\t\n",
            "Epoch: [7][105/218]\tBatch Time 1.804 (1.808)\tData Time 0.038 (0.039)\tLoss 3.2386 (3.1022)\t\n",
            "Epoch: [7][140/218]\tBatch Time 1.794 (1.806)\tData Time 0.029 (0.037)\tLoss 3.0286 (3.0903)\t\n",
            "Epoch: [7][175/218]\tBatch Time 1.798 (1.804)\tData Time 0.029 (0.036)\tLoss 3.2093 (3.0923)\t\n",
            "Epoch: [7][210/218]\tBatch Time 1.807 (1.803)\tData Time 0.031 (0.035)\tLoss 3.1829 (3.1051)\t\n",
            "Model checkpoint. Model Evaluation. :: mAP: 0.6437328457832336\n",
            "Epoch: [8][0/218]\tBatch Time 3.165 (3.165)\tData Time 1.368 (1.368)\tLoss 3.0363 (3.0363)\t\n",
            "Epoch: [8][35/218]\tBatch Time 1.801 (1.865)\tData Time 0.027 (0.078)\tLoss 3.1449 (3.1035)\t\n",
            "Epoch: [8][70/218]\tBatch Time 1.809 (1.832)\tData Time 0.037 (0.054)\tLoss 3.2373 (3.1092)\t\n",
            "Epoch: [8][105/218]\tBatch Time 1.797 (1.822)\tData Time 0.032 (0.047)\tLoss 3.2122 (3.1107)\t\n",
            "Epoch: [8][140/218]\tBatch Time 1.794 (1.816)\tData Time 0.033 (0.043)\tLoss 2.8814 (3.1101)\t\n",
            "Epoch: [8][175/218]\tBatch Time 1.788 (1.812)\tData Time 0.026 (0.040)\tLoss 2.7597 (3.1053)\t\n",
            "Epoch: [8][210/218]\tBatch Time 1.791 (1.810)\tData Time 0.036 (0.039)\tLoss 2.9934 (3.1033)\t\n",
            "Model checkpoint. Model Evaluation. :: mAP: 0.7235977649688721\n",
            "DECAYING learning rate.\n",
            " The new LR is 0.000010\n",
            "\n",
            "Epoch: [9][0/218]\tBatch Time 3.414 (3.414)\tData Time 1.661 (1.661)\tLoss 3.4976 (3.4976)\t\n",
            "Epoch: [9][35/218]\tBatch Time 1.787 (1.839)\tData Time 0.030 (0.074)\tLoss 3.2798 (3.1032)\t\n",
            "Epoch: [9][70/218]\tBatch Time 1.792 (1.816)\tData Time 0.030 (0.053)\tLoss 3.0868 (3.0849)\t\n",
            "Epoch: [9][105/218]\tBatch Time 1.795 (1.809)\tData Time 0.029 (0.046)\tLoss 3.1361 (3.0846)\t\n",
            "Epoch: [9][140/218]\tBatch Time 1.811 (1.806)\tData Time 0.033 (0.042)\tLoss 3.1325 (3.0836)\t\n",
            "Epoch: [9][175/218]\tBatch Time 1.799 (1.804)\tData Time 0.029 (0.040)\tLoss 3.6034 (3.0767)\t\n",
            "Epoch: [9][210/218]\tBatch Time 1.799 (1.803)\tData Time 0.029 (0.039)\tLoss 3.0241 (3.0779)\t\n",
            "Model checkpoint. Model Evaluation. :: mAP: 0.6557393670082092\n",
            "Epoch: [10][0/218]\tBatch Time 3.277 (3.277)\tData Time 1.491 (1.491)\tLoss 2.8143 (2.8143)\t\n",
            "Epoch: [10][35/218]\tBatch Time 1.801 (1.840)\tData Time 0.029 (0.071)\tLoss 3.4342 (3.0921)\t\n",
            "Epoch: [10][70/218]\tBatch Time 1.795 (1.819)\tData Time 0.030 (0.051)\tLoss 3.0724 (3.0966)\t\n",
            "Epoch: [10][105/218]\tBatch Time 1.790 (1.812)\tData Time 0.029 (0.045)\tLoss 2.8905 (3.0926)\t\n",
            "Epoch: [10][140/218]\tBatch Time 1.801 (1.809)\tData Time 0.029 (0.041)\tLoss 3.0809 (3.0873)\t\n",
            "Epoch: [10][175/218]\tBatch Time 1.789 (1.807)\tData Time 0.029 (0.039)\tLoss 3.0734 (3.0846)\t\n",
            "Epoch: [10][210/218]\tBatch Time 1.816 (1.806)\tData Time 0.033 (0.038)\tLoss 2.8251 (3.0875)\t\n",
            "Model checkpoint. Model Evaluation. :: mAP: 0.6333830952644348\n"
          ]
        }
      ]
    },
    {
      "cell_type": "code",
      "source": [
        "checkpoint = torch.load(config.PATH_TO_CHECKPOINT, map_location=torch.device('cuda'))\n",
        "model = checkpoint['model']\n",
        "mAP = eval(model, dataloader_te, min_score=0.5, max_overlap=0.5)\n",
        "print(mAP)"
      ],
      "metadata": {
        "id": "HZ_2uoVduq13",
        "colab": {
          "base_uri": "https://localhost:8080/"
        },
        "outputId": "bd6190cd-09eb-4afa-9791-88685391bad4"
      },
      "execution_count": 20,
      "outputs": [
        {
          "output_type": "stream",
          "name": "stderr",
          "text": [
            "/usr/local/lib/python3.7/dist-packages/torch/nn/functional.py:780: UserWarning: Note that order of the arguments: ceil_mode and return_indices will changeto match the args list in nn.MaxPool2d in a future release.\n",
            "  warnings.warn(\"Note that order of the arguments: ceil_mode and return_indices will change\"\n"
          ]
        },
        {
          "output_type": "stream",
          "name": "stdout",
          "text": [
            "0.594856858253479\n"
          ]
        }
      ]
    },
    {
      "cell_type": "code",
      "source": [
        ""
      ],
      "metadata": {
        "id": "I4Trg29puVty"
      },
      "execution_count": null,
      "outputs": []
    }
  ]
}